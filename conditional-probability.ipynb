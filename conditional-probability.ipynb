{
 "cells": [
  {
   "cell_type": "markdown",
   "metadata": {},
   "source": [
    "Bob has an important meeting tomorrow and he has to reach office on time in morning. His general mode of transport is by car and on a regular day (no car trouble) the probability that he will reach on time is Pot . The probability that he might have car trouble is Pct. If the car runs into trouble he will have to take a train and only 2 trains out of the available N trains will get him to office on time.\n",
    "\n",
    "What are the chances that he will reach office on time tomorrow?\n"
   ]
  },
  {
   "cell_type": "raw",
   "metadata": {},
   "source": [
    "#Solution\n",
    "\n",
    "Probability of reach in office X\n",
    "Probability of car works Y\n",
    "\n",
    "P(X|Y)=Pot\n",
    "P(Y~)=Pct\n",
    "\n",
    "P(X)=P(X ∩ Y)+P(X ∩ Y~)\n",
    "    =P(X|Y)*P(Y)+P(X|Y~)*P(Y~)\n",
    "    =Pot*(1-P(Y~))+2/N*Pct\n",
    "    \n",
    "\n"
   ]
  },
  {
   "cell_type": "code",
   "execution_count": 1,
   "metadata": {},
   "outputs": [
    {
     "name": "stdout",
     "output_type": "stream",
     "text": [
      "0.2\n",
      "0.3\n",
      "10\n",
      "0.280000\n"
     ]
    }
   ],
   "source": [
    "Pct=float(input())\n",
    "Pot=float(input())\n",
    "N=int(input())\n",
    "#Probability of reach office on time\n",
    "Px=Pot*(1-Pct)+(2/N)*Pct\n",
    "print(\"{0:.6f}\".format(Px))"
   ]
  },
  {
   "cell_type": "code",
   "execution_count": null,
   "metadata": {},
   "outputs": [],
   "source": []
  }
 ],
 "metadata": {
  "kernelspec": {
   "display_name": "Python 3",
   "language": "python",
   "name": "python3"
  },
  "language_info": {
   "codemirror_mode": {
    "name": "ipython",
    "version": 3
   },
   "file_extension": ".py",
   "mimetype": "text/x-python",
   "name": "python",
   "nbconvert_exporter": "python",
   "pygments_lexer": "ipython3",
   "version": "3.7.4"
  }
 },
 "nbformat": 4,
 "nbformat_minor": 2
}
