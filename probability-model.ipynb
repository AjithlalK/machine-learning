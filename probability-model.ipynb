{
 "cells": [
  {
   "cell_type": "raw",
   "metadata": {},
   "source": [
    "Mike wants to go fishing this weekend to nearby lake. His neighbour Alice (is the one Mike was hoping to ask out since long time) is also planing to go to the same spot for fishing this weekend. The probability that it will rain this weekend is P1. There are two possible ways to reach the fishing spot (bus or train). The probability that Mike will take the bus is Pmb and that Alice will take the bus is Pab. Travel plans of both are independent of each other and rain.\n",
    "\n",
    "What is the probability Prs that Mike and Alice meet each other only (should not meet in bus or train) in a romantic setup (on a lake in rain)?\n"
   ]
  },
  {
   "cell_type": "code",
   "execution_count": 17,
   "metadata": {},
   "outputs": [
    {
     "name": "stdout",
     "output_type": "stream",
     "text": [
      ".2\n",
      ".2\n",
      ".5\n",
      "0.160000\n"
     ]
    }
   ],
   "source": [
    "pmb=float(input())\n",
    "pab=float(input())\n",
    "p1=float(input())\n",
    "\n",
    "pmnb=pab*(1-pmb)  #Alice should be in the bus and Mike shouldn't be\n",
    "panb=pmb*(1-pab)  #Mike Should be in the bus and Alice shouldn't be\n",
    "pnb=pmnb+panb     #Both are mutually exclusive\n",
    "\n",
    "prs=pnb*p1;       #They should meet in a rain\n",
    "\n",
    "prs=float(prs)\n",
    "print((\"{0:.6f}\".format(prs)))\n",
    "\n"
   ]
  },
  {
   "cell_type": "code",
   "execution_count": null,
   "metadata": {},
   "outputs": [],
   "source": []
  }
 ],
 "metadata": {
  "kernelspec": {
   "display_name": "Python 3",
   "language": "python",
   "name": "python3"
  },
  "language_info": {
   "codemirror_mode": {
    "name": "ipython",
    "version": 3
   },
   "file_extension": ".py",
   "mimetype": "text/x-python",
   "name": "python",
   "nbconvert_exporter": "python",
   "pygments_lexer": "ipython3",
   "version": "3.7.4"
  }
 },
 "nbformat": 4,
 "nbformat_minor": 2
}
